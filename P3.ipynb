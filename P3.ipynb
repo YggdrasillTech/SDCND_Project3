{
 "cells": [
  {
   "cell_type": "markdown",
   "metadata": {},
   "source": [
    "## Step 0: Load Udacity Training Images."
   ]
  },
  {
   "cell_type": "code",
   "execution_count": null,
   "metadata": {
    "collapsed": true
   },
   "outputs": [],
   "source": [
    "import cv2\n",
    "import pandas as pd\n",
    "\n",
    "# Defining Columns names and importing CSV file.\n",
    "root_path = './data/'\n",
    "colnames  = ['center', 'left', 'right', 'steering', 'throttle', 'brake', 'speed']\n",
    "dataset   = pd.read_csv(root_path + 'driving_log.csv', skiprows=[0], names=colnames)\n",
    "\n",
    "# Listing values for each of the images' paths and steering angle.\n",
    "center_path  = dataset.center.tolist()\n",
    "left_path    = dataset.left.tolist()\n",
    "right_path   = dataset.right.tolist()\n",
    "center_steer = dataset.steering.tolist()\n",
    "\n",
    "# List for containing images.\n",
    "center_img = []\n",
    "left_img   = []\n",
    "right_img  = []\n",
    "\n",
    "# Processing CV Images into RGB.\n",
    "for img_path in center_path:\n",
    "    srcBGR  = cv2.imread(root_path + img_path.replace(' ', ''))\n",
    "    destRGB = cv2.cvtColor(srcBGR, cv2.COLOR_BGR2RGB)\n",
    "    center_img.append(destRGB)\n",
    "    \n",
    "for img_path in left_path:\n",
    "    srcBGR  = cv2.imread(root_path + img_path.replace(' ', ''))\n",
    "    destRGB = cv2.cvtColor(srcBGR, cv2.COLOR_BGR2RGB)\n",
    "    left_img.append(destRGB)\n",
    "    \n",
    "for img_path in right_path:\n",
    "    srcBGR  = cv2.imread(root_path + img_path.replace(' ', ''))\n",
    "    destRGB = cv2.cvtColor(srcBGR, cv2.COLOR_BGR2RGB)\n",
    "    right_img.append(destRGB)"
   ]
  },
  {
   "cell_type": "markdown",
   "metadata": {},
   "source": [
    "## Step 1: Dataset Summary & Exploration"
   ]
  },
  {
   "cell_type": "markdown",
   "metadata": {},
   "source": [
    "### Dataset sumary"
   ]
  },
  {
   "cell_type": "code",
   "execution_count": null,
   "metadata": {},
   "outputs": [],
   "source": [
    "import numpy as np\n",
    "\n",
    "# Obtain the number of images in each set\n",
    "n_center_img = np.shape(center_img)\n",
    "n_left_img   = np.shape(left_img)\n",
    "n_right_img  = np.shape(right_img)\n",
    "\n",
    "image_shape  = np.shape(center_img[0])\n",
    "\n",
    "angle_type   = type(center_steer[0])\n",
    "\n",
    "print(\"Number of center images =\", n_center_img)\n",
    "print(\"Number of left images   =\", n_left_img)\n",
    "print(\"Number of right images  =\", n_right_img)\n",
    "print(\"Image data shape        =\", image_shape)\n",
    "print(\"Steering angle type     =\", angle_type)"
   ]
  },
  {
   "cell_type": "markdown",
   "metadata": {},
   "source": [
    "### Dataset Visualizations"
   ]
  },
  {
   "cell_type": "code",
   "execution_count": null,
   "metadata": {},
   "outputs": [],
   "source": [
    "# Import Matplotlib for visualizations.\n",
    "import matplotlib.pyplot as plt\n",
    "import random\n",
    "# Visualizations will be shown in the notebook.\n",
    "%matplotlib inline\n",
    "\n",
    "# Let's show 4 random examples in the Center images.\n",
    "fig, axs = plt.subplots(2,2, figsize=(15, 8))\n",
    "axs = axs.ravel()\n",
    "for i in range(4):\n",
    "    index = random.randint(0, len(center_img))\n",
    "    image = center_img[index]\n",
    "    axs[i].axis('off')\n",
    "    axs[i].imshow(image)\n",
    "    axs[i].set_title('Center image ' + \n",
    "                     str(index) + \n",
    "                     ', Steering angle ' + \n",
    "                     str(center_steer[index]))"
   ]
  },
  {
   "cell_type": "code",
   "execution_count": null,
   "metadata": {},
   "outputs": [],
   "source": [
    "# Let's show 4 random examples in the Left images.\n",
    "fig, axs = plt.subplots(2,2, figsize=(15, 8))\n",
    "axs = axs.ravel()\n",
    "for i in range(4):\n",
    "    index = random.randint(0, len(left_img))\n",
    "    image = left_img[index]\n",
    "    axs[i].axis('off')\n",
    "    axs[i].imshow(image)\n",
    "    axs[i].set_title('Left image ' + \n",
    "                     str(index) + \n",
    "                     ', Steering angle ' + \n",
    "                     str(center_steer[index]))"
   ]
  },
  {
   "cell_type": "code",
   "execution_count": null,
   "metadata": {},
   "outputs": [],
   "source": [
    "# Let's show 4 random examples in the Right images.\n",
    "fig, axs = plt.subplots(2,2, figsize=(15, 8))\n",
    "axs = axs.ravel()\n",
    "for i in range(4):\n",
    "    index = random.randint(0, len(right_img))\n",
    "    image = right_img[index]\n",
    "    axs[i].axis('off')\n",
    "    axs[i].imshow(image)\n",
    "    axs[i].set_title('Right image ' + \n",
    "                     str(index) + \n",
    "                     ', Steering angle ' + \n",
    "                     str(center_steer[index]))"
   ]
  },
  {
   "cell_type": "markdown",
   "metadata": {},
   "source": [
    "### Dataset distribution"
   ]
  },
  {
   "cell_type": "code",
   "execution_count": null,
   "metadata": {},
   "outputs": [],
   "source": [
    "# Plot histogram distribution of the steering angles.\n",
    "num_bins = 23\n",
    "hist, bins = np.histogram(center_steer, num_bins)\n",
    "center = (bins[:-1] + bins[1:]) / 2\n",
    "\n",
    "plt.figure(figsize = (20, 10))\n",
    "plt.bar(center, hist)\n",
    "plt.show()"
   ]
  },
  {
   "cell_type": "markdown",
   "metadata": {},
   "source": [
    "## Step 2: Data pre-processing and augmentation"
   ]
  },
  {
   "cell_type": "code",
   "execution_count": null,
   "metadata": {
    "collapsed": true
   },
   "outputs": [],
   "source": [
    "# First step is to correct steering angles in side cameras.\n",
    "left_steer  = []\n",
    "right_steer = []\n",
    "\n",
    "# Correcting left images with +0.25 constant.\n",
    "for angle in center_steer:\n",
    "    left_steer.append(angle + 0.25)\n",
    "\n",
    "# Correcting Right images with -0.25 constant.\n",
    "for angle in center_steer:\n",
    "    right_steer.append(angle - 0.25)"
   ]
  },
  {
   "cell_type": "code",
   "execution_count": null,
   "metadata": {
    "collapsed": true
   },
   "outputs": [],
   "source": [
    "# To augment dataset in a first step is necesary to flip \n",
    "# images in the vertical axis and invert angle value (multiply by -1.0)\n",
    "inv_steer = []\n",
    "inv_img   = []\n",
    "\n",
    "# Generating with Center images.\n",
    "for index, img in enumerate(center_img):\n",
    "    inv_image = cv2.flip(img, 1)\n",
    "    steering  = center_steer[index]\n",
    "    steering  = -steering\n",
    "    \n",
    "    inv_img.append(inv_image)\n",
    "    inv_steer.append(steering)\n",
    "    \n",
    "# Generating with Left images.\n",
    "for index, img in enumerate(left_img):\n",
    "    inv_image = cv2.flip(img, 1)\n",
    "    steering  = left_steer[index]\n",
    "    steering  = -steering\n",
    "    \n",
    "    inv_img.append(inv_image)\n",
    "    inv_steer.append(steering)\n",
    "    \n",
    "# Generating with Right images.\n",
    "for index, img in enumerate(right_img):\n",
    "    inv_image = cv2.flip(img, 1)\n",
    "    steering  = right_steer[index]\n",
    "    steering  = -steering\n",
    "    \n",
    "    inv_img.append(inv_image)\n",
    "    inv_steer.append(steering)"
   ]
  },
  {
   "cell_type": "code",
   "execution_count": null,
   "metadata": {},
   "outputs": [],
   "source": [
    "# Let's show 4 random examples in the Inverse images.\n",
    "fig, axs = plt.subplots(2,2, figsize=(15, 8))\n",
    "axs = axs.ravel()\n",
    "for i in range(4):\n",
    "    index = random.randint(0, len(inv_img))\n",
    "    image = inv_img[index]\n",
    "    axs[i].axis('off')\n",
    "    axs[i].imshow(image)\n",
    "    axs[i].set_title('Inverse image ' + \n",
    "                     str(index) + \n",
    "                     ', Steering angle ' + \n",
    "                     str(inv_steer[index]))"
   ]
  },
  {
   "cell_type": "code",
   "execution_count": null,
   "metadata": {},
   "outputs": [],
   "source": [
    "# Plot histogram distribution of the inverse steering angles.\n",
    "hist, bins = np.histogram(inv_steer, num_bins)\n",
    "center = (bins[:-1] + bins[1:]) / 2\n",
    "\n",
    "plt.figure(figsize = (20, 10))\n",
    "plt.bar(center, hist)\n",
    "plt.show()"
   ]
  },
  {
   "cell_type": "code",
   "execution_count": null,
   "metadata": {
    "collapsed": true
   },
   "outputs": [],
   "source": [
    "# Time to merge all datasets into a single one.\n",
    "img   = center_img + left_img + right_img + inv_img\n",
    "steer = center_steer + left_steer + right_steer + inv_steer"
   ]
  },
  {
   "cell_type": "code",
   "execution_count": null,
   "metadata": {},
   "outputs": [],
   "source": [
    "# Plot histogram distribution of all dataset steering angles.\n",
    "hist, bins = np.histogram(steer, num_bins)\n",
    "center = (bins[:-1] + bins[1:]) / 2\n",
    "\n",
    "plt.figure(figsize = (20, 10))\n",
    "plt.bar(center, hist)\n",
    "plt.show()"
   ]
  },
  {
   "cell_type": "code",
   "execution_count": null,
   "metadata": {},
   "outputs": [],
   "source": [
    "# Now time to get rid of some samples in order to get a more uniform\n",
    "# distribution.\n",
    "keep_probs  = []\n",
    "remove_list = []\n",
    "target = 2000\n",
    "\n",
    "# Calculating keep probability base on maximum target.\n",
    "for i in range(num_bins):\n",
    "    if hist[i] < target:\n",
    "        keep_probs.append(1.)\n",
    "    else:\n",
    "        keep_probs.append(1./(hist[i]/target))\n",
    "\n",
    "# Black list for deleted images.\n",
    "for i in range(num_bins):\n",
    "    if keep_probs[i] < 1.0:\n",
    "        img_indices = np.where((steer > bins[i]) & (steer <= bins[i + 1]))\n",
    "        # delete from X and y with probability 1 - keep_probs[i]\n",
    "        for index in img_indices[0]:\n",
    "            if np.random.rand() > keep_probs[i]:\n",
    "                remove_list.append(index)\n",
    "\n",
    "# Adjusting datasets.\n",
    "img   = np.delete(img,   remove_list)\n",
    "steer = np.delete(steer, remove_list)"
   ]
  },
  {
   "cell_type": "code",
   "execution_count": null,
   "metadata": {},
   "outputs": [],
   "source": [
    "# Plot histogram distribution of all dataset steering angles.\n",
    "hist, bins = np.histogram(steer, num_bins)\n",
    "center = (bins[:-1] + bins[1:]) / 2\n",
    "\n",
    "plt.figure(figsize = (20, 10))\n",
    "plt.bar(center, hist)\n",
    "plt.show()"
   ]
  },
  {
   "cell_type": "code",
   "execution_count": null,
   "metadata": {},
   "outputs": [],
   "source": [
    "def preprocess_image(img):\n",
    "    new_img = img[50:140,:,:]\n",
    "    new_img = cv2.resize(new_img,(64, 64), interpolation = cv2.INTER_AREA)\n",
    "    return new_img"
   ]
  },
  {
   "cell_type": "code",
   "execution_count": null,
   "metadata": {
    "collapsed": true
   },
   "outputs": [],
   "source": [
    "# Defining a Keras Data Generator.\n",
    "from keras.preprocessing.image import ImageDataGenerator\n",
    "\n",
    "datagen = ImageDataGenerator(rotation_range=20, \n",
    "                             width_shift_range=0.2, \n",
    "                             height_shift_range=0.2)"
   ]
  },
  {
   "cell_type": "markdown",
   "metadata": {},
   "source": [
    "## Step 3: Design and Test a Model Architecture"
   ]
  },
  {
   "cell_type": "code",
   "execution_count": null,
   "metadata": {
    "collapsed": true
   },
   "outputs": [],
   "source": [
    "# Importing Keras layers and utilities.\n",
    "from keras.models import Sequential, model_from_json\n",
    "from keras.layers.core import Dense, Activation, Flatten, Dropout, Lambda\n",
    "from keras.layers.convolutional import Convolution2D\n",
    "from keras.layers.pooling import MaxPooling2D\n",
    "from keras.layers.advanced_activations import ELU\n",
    "from keras.regularizers import l2, activity_l2\n",
    "from keras.optimizers import Adam\n",
    "\n",
    "# Defining model.\n"
   ]
  }
 ],
 "metadata": {
  "kernelspec": {
   "display_name": "Python 3",
   "language": "python",
   "name": "python3"
  },
  "language_info": {
   "codemirror_mode": {
    "name": "ipython",
    "version": 3
   },
   "file_extension": ".py",
   "mimetype": "text/x-python",
   "name": "python",
   "nbconvert_exporter": "python",
   "pygments_lexer": "ipython3",
   "version": "3.5.2"
  },
  "widgets": {
   "state": {},
   "version": "1.1.2"
  }
 },
 "nbformat": 4,
 "nbformat_minor": 2
}
